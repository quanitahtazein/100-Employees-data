{
  "nbformat": 4,
  "nbformat_minor": 0,
  "metadata": {
    "colab": {
      "provenance": []
    },
    "kernelspec": {
      "name": "python3",
      "display_name": "Python 3"
    },
    "language_info": {
      "name": "python"
    }
  },
  "cells": [
    {
      "cell_type": "code",
      "source": [
        "!pip install faker"
      ],
      "metadata": {
        "colab": {
          "base_uri": "https://localhost:8080/"
        },
        "id": "wARKi_cIoraV",
        "outputId": "7f3cd0ae-dd12-4b8b-e22b-de8251724844"
      },
      "execution_count": 5,
      "outputs": [
        {
          "output_type": "stream",
          "name": "stdout",
          "text": [
            "Collecting faker\n",
            "  Downloading faker-37.3.0-py3-none-any.whl.metadata (15 kB)\n",
            "Requirement already satisfied: tzdata in /usr/local/lib/python3.11/dist-packages (from faker) (2025.2)\n",
            "Downloading faker-37.3.0-py3-none-any.whl (1.9 MB)\n",
            "\u001b[?25l   \u001b[90m━━━━━━━━━━━━━━━━━━━━━━━━━━━━━━━━━━━━━━━━\u001b[0m \u001b[32m0.0/1.9 MB\u001b[0m \u001b[31m?\u001b[0m eta \u001b[36m-:--:--\u001b[0m\r\u001b[2K   \u001b[91m━━━━━\u001b[0m\u001b[91m╸\u001b[0m\u001b[90m━━━━━━━━━━━━━━━━━━━━━━━━━━━━━━━━━━\u001b[0m \u001b[32m0.3/1.9 MB\u001b[0m \u001b[31m8.8 MB/s\u001b[0m eta \u001b[36m0:00:01\u001b[0m\r\u001b[2K   \u001b[91m━━━━━━━━━━━━━━━━━━━━━━━━━━━━━━━━━━━━━━━\u001b[0m\u001b[91m╸\u001b[0m \u001b[32m1.9/1.9 MB\u001b[0m \u001b[31m30.8 MB/s\u001b[0m eta \u001b[36m0:00:01\u001b[0m\r\u001b[2K   \u001b[90m━━━━━━━━━━━━━━━━━━━━━━━━━━━━━━━━━━━━━━━━\u001b[0m \u001b[32m1.9/1.9 MB\u001b[0m \u001b[31m23.6 MB/s\u001b[0m eta \u001b[36m0:00:00\u001b[0m\n",
            "\u001b[?25hInstalling collected packages: faker\n",
            "Successfully installed faker-37.3.0\n"
          ]
        }
      ]
    },
    {
      "cell_type": "code",
      "execution_count": 6,
      "metadata": {
        "colab": {
          "base_uri": "https://localhost:8080/"
        },
        "id": "AXV5MB_kWKjp",
        "outputId": "19a6ca17-9b2a-4f9b-9419-afa0c1432b52"
      },
      "outputs": [
        {
          "output_type": "stream",
          "name": "stdout",
          "text": [
            "{'ID': {1}, 'Name': 'Nicole Johnson', 'Email': 'jpatel@example.org', 'Job Title': 'Warehouse manager', 'Salary': 40982}\n",
            "{'ID': {2}, 'Name': 'Bill Wolf', 'Email': 'costaeric@example.com', 'Job Title': 'Actor', 'Salary': 62402}\n",
            "{'ID': {3}, 'Name': 'Rebecca Duarte', 'Email': 'desireeortega@example.net', 'Job Title': 'Plant breeder/geneticist', 'Salary': 59924}\n",
            "{'ID': {4}, 'Name': 'David Reynolds', 'Email': 'maryandrews@example.org', 'Job Title': 'Editorial assistant', 'Salary': 45107}\n",
            "{'ID': {5}, 'Name': 'Matthew Green', 'Email': 'fbrown@example.org', 'Job Title': 'Outdoor activities/education manager', 'Salary': 87812}\n",
            "{'ID': {6}, 'Name': 'James Campbell', 'Email': 'cynthiacastillo@example.net', 'Job Title': 'Volunteer coordinator', 'Salary': 85641}\n",
            "{'ID': {7}, 'Name': 'Tammy Stanton', 'Email': 'wtran@example.net', 'Job Title': 'Energy manager', 'Salary': 54522}\n",
            "{'ID': {8}, 'Name': 'Angie Jacobs', 'Email': 'terryevans@example.com', 'Job Title': 'Film/video editor', 'Salary': 61926}\n",
            "{'ID': {9}, 'Name': 'Kimberly Mathis', 'Email': 'sergio54@example.org', 'Job Title': 'Teacher, special educational needs', 'Salary': 86980}\n",
            "{'ID': {10}, 'Name': 'Lauren Case', 'Email': 'irodgers@example.org', 'Job Title': 'Claims inspector/assessor', 'Salary': 31769}\n",
            "{'ID': {11}, 'Name': 'Devon Schaefer', 'Email': 'sara92@example.com', 'Job Title': 'Town planner', 'Salary': 39170}\n",
            "{'ID': {12}, 'Name': 'Isaac Martinez', 'Email': 'andrewshepherd@example.com', 'Job Title': 'Physiological scientist', 'Salary': 30372}\n",
            "{'ID': {13}, 'Name': 'Benjamin Adams', 'Email': 'roberthogan@example.com', 'Job Title': 'Tourism officer', 'Salary': 76367}\n",
            "{'ID': {14}, 'Name': 'Gregory Russo', 'Email': 'james72@example.com', 'Job Title': 'Holiday representative', 'Salary': 76243}\n",
            "{'ID': {15}, 'Name': 'Wendy Bennett', 'Email': 'smartin@example.org', 'Job Title': 'Administrator, Civil Service', 'Salary': 34406}\n",
            "{'ID': {16}, 'Name': 'Christopher Martin', 'Email': 'gabrielgoodwin@example.org', 'Job Title': 'Therapist, music', 'Salary': 96244}\n",
            "{'ID': {17}, 'Name': 'Julie Alexander', 'Email': 'sanchezsamantha@example.com', 'Job Title': 'Radiation protection practitioner', 'Salary': 72238}\n",
            "{'ID': {18}, 'Name': 'Michael Williams', 'Email': 'thompsonlarry@example.net', 'Job Title': 'Theatre director', 'Salary': 98232}\n",
            "{'ID': {19}, 'Name': 'Juan Stanley', 'Email': 'vincentjames@example.org', 'Job Title': 'Curator', 'Salary': 97190}\n",
            "{'ID': {20}, 'Name': 'Christopher Lewis', 'Email': 'cynthia55@example.com', 'Job Title': 'Multimedia specialist', 'Salary': 84985}\n",
            "{'ID': {21}, 'Name': 'Marissa Long', 'Email': 'bullockjessica@example.com', 'Job Title': 'Engineering geologist', 'Salary': 94938}\n",
            "{'ID': {22}, 'Name': 'Michael Small', 'Email': 'clintontrevino@example.net', 'Job Title': 'Interior and spatial designer', 'Salary': 45578}\n",
            "{'ID': {23}, 'Name': 'Heather Bates', 'Email': 'robertferrell@example.org', 'Job Title': 'Health physicist', 'Salary': 33755}\n",
            "{'ID': {24}, 'Name': 'Laura Villanueva', 'Email': 'ncosta@example.com', 'Job Title': 'Geneticist, molecular', 'Salary': 46002}\n",
            "{'ID': {25}, 'Name': 'Joshua Kelly', 'Email': 'shelby53@example.org', 'Job Title': 'Probation officer', 'Salary': 80330}\n",
            "{'ID': {26}, 'Name': 'Daniel Fox', 'Email': 'jtorres@example.net', 'Job Title': 'Art therapist', 'Salary': 35250}\n",
            "{'ID': {27}, 'Name': 'Tonya Obrien', 'Email': 'amanda66@example.net', 'Job Title': 'Customer service manager', 'Salary': 54135}\n",
            "{'ID': {28}, 'Name': 'James Hart', 'Email': 'amber19@example.org', 'Job Title': 'Network engineer', 'Salary': 38579}\n",
            "{'ID': {29}, 'Name': 'Samuel Williams', 'Email': 'patty94@example.com', 'Job Title': 'Museum/gallery conservator', 'Salary': 59434}\n",
            "{'ID': {30}, 'Name': 'Deborah Cohen', 'Email': 'narellano@example.com', 'Job Title': 'Legal executive', 'Salary': 32125}\n",
            "{'ID': {31}, 'Name': 'Rickey Cox', 'Email': 'reginasullivan@example.org', 'Job Title': 'Town planner', 'Salary': 78477}\n",
            "{'ID': {32}, 'Name': 'Wayne Castro', 'Email': 'haley87@example.net', 'Job Title': 'Investment analyst', 'Salary': 30391}\n",
            "{'ID': {33}, 'Name': 'Jeffrey Ochoa', 'Email': 'brianhammond@example.org', 'Job Title': 'Arts development officer', 'Salary': 59753}\n",
            "{'ID': {34}, 'Name': 'Samantha Kaiser', 'Email': 'jesus34@example.net', 'Job Title': 'Educational psychologist', 'Salary': 44204}\n",
            "{'ID': {35}, 'Name': 'Dustin Bryan', 'Email': 'jallen@example.org', 'Job Title': 'Medical technical officer', 'Salary': 94551}\n",
            "{'ID': {36}, 'Name': 'Jasmine Fox MD', 'Email': 'rcarpenter@example.com', 'Job Title': 'Furniture designer', 'Salary': 82803}\n",
            "{'ID': {37}, 'Name': 'Ronald Scott', 'Email': 'david72@example.org', 'Job Title': 'Engineer, maintenance (IT)', 'Salary': 35273}\n",
            "{'ID': {38}, 'Name': 'Gabriel Turner', 'Email': 'greenmaurice@example.org', 'Job Title': 'Optometrist', 'Salary': 93850}\n",
            "{'ID': {39}, 'Name': 'James Kelly', 'Email': 'gonzalezkimberly@example.com', 'Job Title': 'Therapist, speech and language', 'Salary': 64771}\n",
            "{'ID': {40}, 'Name': 'Dana Edwards', 'Email': 'kdrake@example.com', 'Job Title': 'Social research officer, government', 'Salary': 74734}\n",
            "{'ID': {41}, 'Name': 'Shane Rodriguez', 'Email': 'emily94@example.org', 'Job Title': 'Exercise physiologist', 'Salary': 38787}\n",
            "{'ID': {42}, 'Name': 'Chelsea Torres', 'Email': 'brandon34@example.org', 'Job Title': 'Chief Operating Officer', 'Salary': 70168}\n",
            "{'ID': {43}, 'Name': 'Wendy Ryan', 'Email': 'dawncopeland@example.org', 'Job Title': 'Chief Executive Officer', 'Salary': 35526}\n",
            "{'ID': {44}, 'Name': 'James White', 'Email': 'anthonyrodriguez@example.net', 'Job Title': 'Science writer', 'Salary': 76061}\n",
            "{'ID': {45}, 'Name': 'Monica Drake', 'Email': 'kphillips@example.com', 'Job Title': 'Teacher, primary school', 'Salary': 81328}\n",
            "{'ID': {46}, 'Name': 'Steven Dixon', 'Email': 'davidwu@example.net', 'Job Title': 'Environmental manager', 'Salary': 68644}\n",
            "{'ID': {47}, 'Name': 'Bonnie Moore', 'Email': 'robertsbrian@example.com', 'Job Title': 'Consulting civil engineer', 'Salary': 70876}\n",
            "{'ID': {48}, 'Name': 'Mrs. Melinda Golden', 'Email': 'matthewmcdaniel@example.net', 'Job Title': 'Music tutor', 'Salary': 55511}\n",
            "{'ID': {49}, 'Name': 'Michael Garcia', 'Email': 'elizabeth05@example.net', 'Job Title': 'Merchant navy officer', 'Salary': 34075}\n",
            "{'ID': {50}, 'Name': 'Amanda Howard', 'Email': 'laurablevins@example.org', 'Job Title': 'Clothing/textile technologist', 'Salary': 86095}\n",
            "{'ID': {51}, 'Name': 'Lacey Graham', 'Email': 'ythomas@example.net', 'Job Title': 'Environmental education officer', 'Salary': 60362}\n",
            "{'ID': {52}, 'Name': 'Christopher Carey', 'Email': 'debbieburke@example.org', 'Job Title': 'Audiological scientist', 'Salary': 64541}\n",
            "{'ID': {53}, 'Name': 'Robert Brown', 'Email': 'ssmith@example.com', 'Job Title': 'Garment/textile technologist', 'Salary': 69886}\n",
            "{'ID': {54}, 'Name': 'Gina Clark PhD', 'Email': 'ronaldjordan@example.com', 'Job Title': 'Public affairs consultant', 'Salary': 91285}\n",
            "{'ID': {55}, 'Name': 'Walter Sullivan', 'Email': 'owu@example.org', 'Job Title': \"Barrister's clerk\", 'Salary': 87353}\n",
            "{'ID': {56}, 'Name': 'Malik Nguyen', 'Email': 'cameronchase@example.org', 'Job Title': 'Designer, fashion/clothing', 'Salary': 81870}\n",
            "{'ID': {57}, 'Name': 'Taylor Middleton', 'Email': 'apatterson@example.org', 'Job Title': 'Corporate investment banker', 'Salary': 47419}\n",
            "{'ID': {58}, 'Name': 'Sandra Villanueva', 'Email': 'julierodriguez@example.com', 'Job Title': 'Engineer, electrical', 'Salary': 66442}\n",
            "{'ID': {59}, 'Name': 'Megan Murphy', 'Email': 'james95@example.com', 'Job Title': 'TEFL teacher', 'Salary': 37858}\n",
            "{'ID': {60}, 'Name': 'Blake Collins', 'Email': 'jacqueline76@example.org', 'Job Title': 'Chartered legal executive (England and Wales)', 'Salary': 33281}\n",
            "{'ID': {61}, 'Name': 'Leah Bowers', 'Email': 'pauldaniel@example.net', 'Job Title': 'Diagnostic radiographer', 'Salary': 64745}\n",
            "{'ID': {62}, 'Name': 'Jessica Fitzgerald', 'Email': 'stonealison@example.org', 'Job Title': 'Pathologist', 'Salary': 92476}\n",
            "{'ID': {63}, 'Name': 'Crystal Moreno', 'Email': 'mfarmer@example.net', 'Job Title': 'Horticulturist, commercial', 'Salary': 56379}\n",
            "{'ID': {64}, 'Name': 'Ryan Medina', 'Email': 'ginawalls@example.net', 'Job Title': 'Television/film/video producer', 'Salary': 86706}\n",
            "{'ID': {65}, 'Name': 'Richard Chung', 'Email': 'johnhall@example.com', 'Job Title': 'English as a foreign language teacher', 'Salary': 72166}\n",
            "{'ID': {66}, 'Name': 'Stacy Burke', 'Email': 'andrewbriggs@example.com', 'Job Title': 'Science writer', 'Salary': 35482}\n",
            "{'ID': {67}, 'Name': 'Amanda Garner', 'Email': 'garciafrank@example.org', 'Job Title': 'Mechanical engineer', 'Salary': 87847}\n",
            "{'ID': {68}, 'Name': 'Walter Brown', 'Email': 'xnguyen@example.net', 'Job Title': 'Commissioning editor', 'Salary': 31581}\n",
            "{'ID': {69}, 'Name': 'Tyler Harris', 'Email': 'fchang@example.com', 'Job Title': 'Librarian, academic', 'Salary': 33163}\n",
            "{'ID': {70}, 'Name': 'Robert Bell', 'Email': 'reevesdanielle@example.net', 'Job Title': 'Librarian, academic', 'Salary': 46793}\n",
            "{'ID': {71}, 'Name': 'Ralph Lawson', 'Email': 'drogers@example.com', 'Job Title': 'Engineer, site', 'Salary': 38763}\n",
            "{'ID': {72}, 'Name': 'Mrs. Brandy White', 'Email': 'bryce54@example.org', 'Job Title': 'Merchant navy officer', 'Salary': 61883}\n",
            "{'ID': {73}, 'Name': 'Gary Smith', 'Email': 'rcampbell@example.org', 'Job Title': 'Veterinary surgeon', 'Salary': 47069}\n",
            "{'ID': {74}, 'Name': 'Chelsea Zuniga', 'Email': 'davidsanchez@example.net', 'Job Title': 'Clinical biochemist', 'Salary': 30068}\n",
            "{'ID': {75}, 'Name': 'Rachel King', 'Email': 'riversmelissa@example.net', 'Job Title': 'Minerals surveyor', 'Salary': 99528}\n",
            "{'ID': {76}, 'Name': 'Kyle Olsen', 'Email': 'zgraves@example.net', 'Job Title': 'Warden/ranger', 'Salary': 71237}\n",
            "{'ID': {77}, 'Name': 'Miguel Harris', 'Email': 'gharvey@example.org', 'Job Title': 'Teaching laboratory technician', 'Salary': 32776}\n",
            "{'ID': {78}, 'Name': 'Kevin Martinez', 'Email': 'tracylawrence@example.org', 'Job Title': 'Conservation officer, historic buildings', 'Salary': 62331}\n",
            "{'ID': {79}, 'Name': 'Robert Miller', 'Email': 'benjaminwalker@example.net', 'Job Title': 'Aid worker', 'Salary': 60012}\n",
            "{'ID': {80}, 'Name': 'Lisa Carter', 'Email': 'fordrebecca@example.com', 'Job Title': 'IT trainer', 'Salary': 43107}\n",
            "{'ID': {81}, 'Name': 'Dennis Avila', 'Email': 'howard06@example.com', 'Job Title': 'Chief Technology Officer', 'Salary': 50246}\n",
            "{'ID': {82}, 'Name': 'Jennifer Taylor', 'Email': 'dianegarcia@example.net', 'Job Title': 'Immigration officer', 'Salary': 92072}\n",
            "{'ID': {83}, 'Name': 'Edward Alexander', 'Email': 'josephhoward@example.com', 'Job Title': 'TEFL teacher', 'Salary': 94289}\n",
            "{'ID': {84}, 'Name': 'Kyle Gilmore', 'Email': 'briana18@example.org', 'Job Title': 'Press sub', 'Salary': 57547}\n",
            "{'ID': {85}, 'Name': 'Rachel Pineda', 'Email': 'thomasburgess@example.net', 'Job Title': 'Wellsite geologist', 'Salary': 51276}\n",
            "{'ID': {86}, 'Name': 'Teresa Morton', 'Email': 'kandersen@example.net', 'Job Title': 'Orthoptist', 'Salary': 77396}\n",
            "{'ID': {87}, 'Name': 'Kimberly Turner', 'Email': 'whitewilliam@example.org', 'Job Title': 'TEFL teacher', 'Salary': 62502}\n",
            "{'ID': {88}, 'Name': 'Alexis Bryant', 'Email': 'cjoseph@example.com', 'Job Title': 'Paramedic', 'Salary': 52471}\n",
            "{'ID': {89}, 'Name': 'Andrew Jordan', 'Email': 'burnsbrandi@example.org', 'Job Title': 'Teacher, secondary school', 'Salary': 68407}\n",
            "{'ID': {90}, 'Name': 'Alexander Webster', 'Email': 'sharplauren@example.org', 'Job Title': 'Secretary/administrator', 'Salary': 77462}\n",
            "{'ID': {91}, 'Name': 'Denise Anderson', 'Email': 'stephaniemclean@example.org', 'Job Title': 'Bonds trader', 'Salary': 44792}\n",
            "{'ID': {92}, 'Name': 'Joseph Zimmerman', 'Email': 'samantha75@example.net', 'Job Title': 'Product manager', 'Salary': 39789}\n",
            "{'ID': {93}, 'Name': 'Christian Marsh', 'Email': 'suarezrobert@example.net', 'Job Title': 'Teacher, primary school', 'Salary': 95467}\n",
            "{'ID': {94}, 'Name': 'Carolyn Simpson', 'Email': 'evanskevin@example.org', 'Job Title': 'Gaffer', 'Salary': 87545}\n",
            "{'ID': {95}, 'Name': 'Joseph Garcia', 'Email': 'melaniewilkinson@example.com', 'Job Title': 'Radio producer', 'Salary': 72180}\n",
            "{'ID': {96}, 'Name': 'Nicholas Taylor', 'Email': 'robertfowler@example.net', 'Job Title': 'Secretary, company', 'Salary': 85948}\n",
            "{'ID': {97}, 'Name': 'Debra Gonzales', 'Email': 'logan89@example.org', 'Job Title': 'Archivist', 'Salary': 81432}\n",
            "{'ID': {98}, 'Name': 'David Jones', 'Email': 'xanderson@example.net', 'Job Title': 'Event organiser', 'Salary': 91231}\n",
            "{'ID': {99}, 'Name': 'Christina Tucker', 'Email': 'mbrown@example.org', 'Job Title': 'Psychologist, occupational', 'Salary': 32508}\n",
            "{'ID': {100}, 'Name': 'Samuel Black', 'Email': 'johnsonjohn@example.com', 'Job Title': 'Insurance claims handler', 'Salary': 43957}\n"
          ]
        }
      ],
      "source": [
        "from faker import Faker\n",
        "fake = Faker()\n",
        "employees = []\n",
        "i = 1\n",
        "\n",
        "while i <= 100:\n",
        "  employee = {\"ID\": {i}, \"Name\" : fake.name(), \"Email\" : fake.email(), \"Job Title\" : fake.job(), \"Salary\" : fake.random_int(min = 30000, max = 100000)}\n",
        "  employees.append(employee)\n",
        "  i += 1\n",
        "\n",
        "for emp in employees:\n",
        "  print(emp)"
      ]
    },
    {
      "cell_type": "code",
      "source": [],
      "metadata": {
        "id": "E__K_dqqam2F"
      },
      "execution_count": null,
      "outputs": []
    }
  ]
}